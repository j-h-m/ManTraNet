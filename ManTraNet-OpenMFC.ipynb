{
 "cells": [
  {
   "cell_type": "markdown",
   "id": "804175e0",
   "metadata": {},
   "source": [
    "# check gpu resources"
   ]
  },
  {
   "cell_type": "code",
   "execution_count": null,
   "id": "e7ee97fb",
   "metadata": {
    "scrolled": true
   },
   "outputs": [],
   "source": [
    "# gpu resources\n",
    "! nvidia-smi"
   ]
  },
  {
   "cell_type": "markdown",
   "id": "d08c80ef",
   "metadata": {},
   "source": [
    "# running ManTraNet on OpenMFC dataset"
   ]
  },
  {
   "cell_type": "code",
   "execution_count": null,
   "id": "52e64a89",
   "metadata": {},
   "outputs": [],
   "source": [
    "import os\n",
    "import sys\n",
    "import numpy as np\n",
    "import pandas as pd\n",
    "import cv2\n",
    "import requests\n",
    "import sys\n",
    "import image_slicer\n",
    "import time\n",
    "import tensorflow as tf\n",
    "\n",
    "from tqdm.notebook import tqdm\n",
    "from PIL import Image\n",
    "from io import BytesIO\n",
    "from matplotlib import pyplot"
   ]
  },
  {
   "cell_type": "code",
   "execution_count": null,
   "id": "98dd42e5",
   "metadata": {},
   "outputs": [],
   "source": [
    "# ManTraNet paths\n",
    "manTraNet_root = './'\n",
    "manTraNet_srcDir = os.path.join( manTraNet_root, 'src' )\n",
    "sys.path.insert( 0, manTraNet_srcDir )\n",
    "manTraNet_modelDir = os.path.join( manTraNet_root, 'pretrained_weights' )"
   ]
  },
  {
   "cell_type": "markdown",
   "id": "97a6cd90",
   "metadata": {},
   "source": [
    "# setup dataset paths"
   ]
  },
  {
   "cell_type": "code",
   "execution_count": null,
   "id": "4be5960c",
   "metadata": {},
   "outputs": [],
   "source": [
    "# set the part #\n",
    "dataset_part_num = 1"
   ]
  },
  {
   "cell_type": "code",
   "execution_count": null,
   "id": "4e15fd23",
   "metadata": {},
   "outputs": [],
   "source": [
    "# OpenMFC dataset\n",
    "mfc_data = os.path.join(manTraNet_root, 'openmfc_data')\n",
    "openmfc_2020 = os.path.join(mfc_data, 'OpenMFC2020')\n",
    "\n",
    "# p1 for index\n",
    "openmfc_2020_p1 = os.path.join(openmfc_2020, 'OpenMFC20_Image_Ver1-part001of27')\n",
    "openmfc_2020_p1_indexes = os.path.join(openmfc_2020_p1, 'indexes')\n",
    "\n",
    "# dynamic part #\n",
    "openmfc_2020_part = os.path.join(openmfc_2020, f'OpenMFC20_Image_Ver1-part00{dataset_part_num}of27')\n",
    "openmfc_2020_part_probe = os.path.join(openmfc_2020_part, 'probe')\n",
    "openmfc_2020_part_mask_out = os.path.join(openmfc_2020_part, 'predicted_masks')"
   ]
  },
  {
   "cell_type": "markdown",
   "id": "b19741b8",
   "metadata": {},
   "source": [
    "# load dataset description"
   ]
  },
  {
   "cell_type": "code",
   "execution_count": null,
   "id": "607847eb",
   "metadata": {},
   "outputs": [],
   "source": [
    "imdl_index_path = os.path.join(openmfc_2020_p1_indexes, 'OpenMFC20_Image-IMDL-index.csv')"
   ]
  },
  {
   "cell_type": "code",
   "execution_count": null,
   "id": "b84458b9",
   "metadata": {},
   "outputs": [],
   "source": [
    "df = pd.read_csv(imdl_index_path, sep='|')"
   ]
  },
  {
   "cell_type": "code",
   "execution_count": null,
   "id": "96ec1ad3",
   "metadata": {},
   "outputs": [],
   "source": [
    "df.head()"
   ]
  },
  {
   "cell_type": "code",
   "execution_count": null,
   "id": "cb6e47a7",
   "metadata": {},
   "outputs": [],
   "source": [
    "df['TaskID'].unique()"
   ]
  },
  {
   "cell_type": "markdown",
   "id": "27cd12ce",
   "metadata": {},
   "source": [
    "# build dataset list"
   ]
  },
  {
   "cell_type": "code",
   "execution_count": null,
   "id": "b9658751",
   "metadata": {
    "scrolled": true
   },
   "outputs": [],
   "source": [
    "dataset = os.listdir(openmfc_2020_part_probe)"
   ]
  },
  {
   "cell_type": "markdown",
   "id": "76616cad",
   "metadata": {},
   "source": [
    "# Load A Pretrained ManTraNet Model"
   ]
  },
  {
   "cell_type": "code",
   "execution_count": null,
   "id": "ffd81932",
   "metadata": {},
   "outputs": [],
   "source": [
    "import modelCore\n",
    "# 4 is default model\n",
    "manTraNet = modelCore.load_pretrain_model_by_index( 4, manTraNet_modelDir )"
   ]
  },
  {
   "cell_type": "code",
   "execution_count": null,
   "id": "795b7b96",
   "metadata": {
    "scrolled": true
   },
   "outputs": [],
   "source": [
    "# ManTraNet Architecture \n",
    "print(manTraNet.summary(line_length=120))"
   ]
  },
  {
   "cell_type": "code",
   "execution_count": null,
   "id": "9dae58cf",
   "metadata": {
    "scrolled": true
   },
   "outputs": [],
   "source": [
    "# Image Manipulation Classification Network\n",
    "IMCFeatex = manTraNet.get_layer('Featex')\n",
    "print(IMCFeatex.summary(line_length=120))"
   ]
  },
  {
   "cell_type": "markdown",
   "id": "dfbf4dc7",
   "metadata": {},
   "source": [
    "# test samples from OpenMFC"
   ]
  },
  {
   "cell_type": "code",
   "execution_count": null,
   "id": "56c32262",
   "metadata": {},
   "outputs": [],
   "source": [
    "from datetime import datetime \n",
    "def read_rgb_image( image_file ) :\n",
    "    rgb = cv2.imread( image_file, 1 )[...,::-1]\n",
    "    return rgb\n",
    "    \n",
    "def decode_an_image_array( rgb, manTraNet ) :\n",
    "    x = np.expand_dims( rgb.astype('float32')/255.*2-1, axis=0 )\n",
    "    t0 = datetime.now()\n",
    "    y = manTraNet.predict(x)[0,...,0]\n",
    "    t1 = datetime.now()\n",
    "    return y, t1-t0\n",
    "\n",
    "def decode_an_image_file( image_file, manTraNet ) :\n",
    "    rgb = read_rgb_image( image_file )\n",
    "    mask, ptime = decode_an_image_array( rgb, manTraNet )\n",
    "    return rgb, mask, ptime.total_seconds()"
   ]
  },
  {
   "cell_type": "code",
   "execution_count": null,
   "id": "4b4947ac",
   "metadata": {},
   "outputs": [],
   "source": [
    "def slice_and_decode(filename, manTraNet):\n",
    "    tiles = image_slicer.slice(filename, number_tiles=6)\n",
    "    mask_tiles = []\n",
    "    total_ptime = 0\n",
    "    for tile in tiles:\n",
    "        rgb, mask, ptime = decode_an_image_file(tile.filename, manTraNet)\n",
    "        mask_image = Image.fromarray(np.uint8(mask * 255))\n",
    "        mask_tile = image_slicer.Tile(image=mask_image, number=tile.number, position=tile.position, coords=tile.coords)\n",
    "        mask_tiles.append(mask_tile)\n",
    "        total_ptime += ptime\n",
    "    mask_tiles = tuple(mask_tiles)\n",
    "    res = image_slicer.join(mask_tiles)\n",
    "    return res, total_ptime"
   ]
  },
  {
   "cell_type": "code",
   "execution_count": null,
   "id": "f8f11ade",
   "metadata": {},
   "outputs": [],
   "source": [
    "from PIL import UnidentifiedImageError\n",
    "\n",
    "failures = []"
   ]
  },
  {
   "cell_type": "code",
   "execution_count": null,
   "id": "9e742f78",
   "metadata": {
    "scrolled": false
   },
   "outputs": [],
   "source": [
    "# modified for OpenMFC\n",
    "start = time.time()\n",
    "for sample in tqdm(dataset):\n",
    "    try:\n",
    "        sample_probe = openmfc_2020_part_probe + '/' + sample\n",
    "\n",
    "        # manipulation detection using slicing\n",
    "        mask, ptime = slice_and_decode( sample_probe, manTraNet )\n",
    "\n",
    "        # show results\n",
    "        pyplot.figure( figsize=(25,25) )\n",
    "\n",
    "        pyplot.subplot(2, 2, 1)\n",
    "        sample_image = pyplot.imread(sample_probe)\n",
    "        pyplot.imshow( sample_image )\n",
    "        pyplot.title('Forged Image (ManTra-Net Input)')\n",
    "\n",
    "        pyplot.subplot(2, 2, 2)\n",
    "        pyplot.imshow( mask, cmap='gray' )\n",
    "        pyplot.title('Predicted Mask (ManTra-Net Output w/ Slicing)')\n",
    "\n",
    "        mask_filename = openmfc_2020_part_mask_out + '/'+ os.path.splitext(sample)[0] + '_mask' + '.png'\n",
    "\n",
    "        pyplot.suptitle('Decoded {} of size {} for {:.2f} seconds'.format( os.path.basename( sample_probe ), 'rgb.shape', ptime ) )\n",
    "\n",
    "        pyplot.show()\n",
    "\n",
    "        # save mask to mask path\n",
    "        mask.save(fp=mask_filename, format='PNG')\n",
    "    except UnidentifiedImageError as err:\n",
    "        failures.append((sample, err))\n",
    "    except tf.errors.ResourceExhaustedError as err:\n",
    "        failures.append((sample, err))\n",
    "\n",
    "print(f'all probes completed in {start - time.time()} seconds')"
   ]
  }
 ],
 "metadata": {
  "kernelspec": {
   "display_name": "Python 3",
   "language": "python",
   "name": "python3"
  },
  "language_info": {
   "codemirror_mode": {
    "name": "ipython",
    "version": 3
   },
   "file_extension": ".py",
   "mimetype": "text/x-python",
   "name": "python",
   "nbconvert_exporter": "python",
   "pygments_lexer": "ipython3",
   "version": "3.6.13"
  }
 },
 "nbformat": 4,
 "nbformat_minor": 5
}
