{
 "cells": [
  {
   "cell_type": "markdown",
   "id": "1d601dc0",
   "metadata": {},
   "source": [
    "# check gpu resources"
   ]
  },
  {
   "cell_type": "code",
   "execution_count": null,
   "id": "f52b51dc",
   "metadata": {},
   "outputs": [],
   "source": [
    "# gpu resources\n",
    "! nvidia-smi"
   ]
  },
  {
   "cell_type": "markdown",
   "id": "66aa26f5",
   "metadata": {},
   "source": [
    "# running ManTraNet on OpenMFC dataset"
   ]
  },
  {
   "cell_type": "code",
   "execution_count": null,
   "id": "70fb782d",
   "metadata": {},
   "outputs": [],
   "source": [
    "import os\n",
    "import numpy as np\n",
    "import pandas as pd\n",
    "import cv2\n",
    "import requests\n",
    "import sys\n",
    "\n",
    "from PIL import Image\n",
    "from io import BytesIO\n",
    "from matplotlib import pyplot"
   ]
  },
  {
   "cell_type": "code",
   "execution_count": null,
   "id": "e74fc55d",
   "metadata": {},
   "outputs": [],
   "source": [
    "# ManTraNet paths\n",
    "manTraNet_root = './'\n",
    "manTraNet_srcDir = os.path.join( manTraNet_root, 'src' )\n",
    "sys.path.insert( 0, manTraNet_srcDir )\n",
    "manTraNet_modelDir = os.path.join( manTraNet_root, 'pretrained_weights' )"
   ]
  },
  {
   "cell_type": "markdown",
   "id": "08b53935",
   "metadata": {},
   "source": [
    "# setup dataset paths"
   ]
  },
  {
   "cell_type": "code",
   "execution_count": null,
   "id": "94f1f7bb",
   "metadata": {},
   "outputs": [],
   "source": [
    "# OpenMFC dataset\n",
    "mfc_data = os.path.join(manTraNet_root, 'openmfc_data')\n",
    "openmfc_2020 = os.path.join(mfc_data, 'OpenMFC2020')\n",
    "\n",
    "openmfc_2020_p1 = os.path.join(openmfc_2020, 'OpenMFC20_Image_Ver1-part001of27')\n",
    "openmfc_2020_p1_indexes = os.path.join(openmfc_2020_p1, 'indexes')\n",
    "openmfc_2020_p1_probe = os.path.join(openmfc_2020_p1, 'probe')"
   ]
  },
  {
   "cell_type": "markdown",
   "id": "93cb1e49",
   "metadata": {},
   "source": [
    "# load dataset description"
   ]
  },
  {
   "cell_type": "code",
   "execution_count": null,
   "id": "00403e89",
   "metadata": {},
   "outputs": [],
   "source": [
    "imdl_index_path = os.path.join(openmfc_2020_p1_indexes, 'OpenMFC20_Image-IMDL-index.csv')"
   ]
  },
  {
   "cell_type": "code",
   "execution_count": null,
   "id": "380bb828",
   "metadata": {},
   "outputs": [],
   "source": [
    "df = pd.read_csv(imdl_index_path, sep='|')"
   ]
  },
  {
   "cell_type": "code",
   "execution_count": null,
   "id": "ebedec83",
   "metadata": {},
   "outputs": [],
   "source": [
    "df.head()"
   ]
  },
  {
   "cell_type": "code",
   "execution_count": null,
   "id": "6e79fd83",
   "metadata": {},
   "outputs": [],
   "source": [
    "df['TaskID'].unique()"
   ]
  },
  {
   "cell_type": "markdown",
   "id": "ee03bd9f",
   "metadata": {},
   "source": [
    "# build dataset list"
   ]
  },
  {
   "cell_type": "code",
   "execution_count": null,
   "id": "d71d9053",
   "metadata": {
    "scrolled": true
   },
   "outputs": [],
   "source": [
    "dataset = os.listdir(openmfc_2020_p1_probe)"
   ]
  },
  {
   "cell_type": "markdown",
   "id": "4708e9bf",
   "metadata": {},
   "source": [
    "# Load A Pretrained ManTraNet Model"
   ]
  },
  {
   "cell_type": "code",
   "execution_count": null,
   "id": "a1bbaa99",
   "metadata": {},
   "outputs": [],
   "source": [
    "import modelCore\n",
    "# 4 is default model\n",
    "manTraNet = modelCore.load_pretrain_model_by_index( 4, manTraNet_modelDir )"
   ]
  },
  {
   "cell_type": "code",
   "execution_count": null,
   "id": "0d062f03",
   "metadata": {
    "scrolled": true
   },
   "outputs": [],
   "source": [
    "# ManTraNet Architecture \n",
    "print(manTraNet.summary(line_length=120))"
   ]
  },
  {
   "cell_type": "code",
   "execution_count": null,
   "id": "d48500a2",
   "metadata": {
    "scrolled": true
   },
   "outputs": [],
   "source": [
    "# Image Manipulation Classification Network\n",
    "IMCFeatex = manTraNet.get_layer('Featex')\n",
    "print(IMCFeatex.summary(line_length=120))"
   ]
  },
  {
   "cell_type": "markdown",
   "id": "2e123a00",
   "metadata": {},
   "source": [
    "# test samples from OpenMFC"
   ]
  },
  {
   "cell_type": "code",
   "execution_count": null,
   "id": "1e44ce53",
   "metadata": {},
   "outputs": [],
   "source": [
    "from datetime import datetime \n",
    "def read_rgb_image( image_file ) :\n",
    "    rgb = cv2.imread( image_file, 1 )[...,::-1]\n",
    "    return rgb\n",
    "    \n",
    "def decode_an_image_array( rgb, manTraNet ) :\n",
    "    x = np.expand_dims( rgb.astype('float32')/255.*2-1, axis=0 )\n",
    "    t0 = datetime.now()\n",
    "    # y = manTraNet.predict(x)[0,...,0]\n",
    "    t1 = datetime.now()\n",
    "    return y, t1-t0\n",
    "\n",
    "def decode_an_image_file( image_file, manTraNet ) :\n",
    "    rgb = read_rgb_image( image_file )\n",
    "    mask, ptime = decode_an_image_array( rgb, manTraNet )\n",
    "    return rgb, mask, ptime.total_seconds()"
   ]
  },
  {
   "cell_type": "code",
   "execution_count": null,
   "id": "31af80b5",
   "metadata": {},
   "outputs": [],
   "source": [
    "def slice_and_decode(filename, manTraNet):\n",
    "    tiles = image_slicer.slice(filename, number_tiles=8)\n",
    "    mask_tiles = []\n",
    "    total_ptime = 0\n",
    "    for tile in tiles:\n",
    "        rgb, mask, ptime = decode_an_image_file(tile.filename, manTraNet)\n",
    "        mask_image = Image.fromarray(np.uint8(mask * 255))\n",
    "        mask_tile = image_slicer.Tile(image=mask_image, number=tile.number, position=tile.position, coords=tile.coords)\n",
    "        mask_tiles.append(mask_tile)\n",
    "        total_ptime += ptime\n",
    "    mask_tiles = tuple(mask_tiles)\n",
    "    res = image_slicer.join(mask_tiles)\n",
    "    return res, total_ptime"
   ]
  },
  {
   "cell_type": "code",
   "execution_count": null,
   "id": "d1864bc9",
   "metadata": {
    "scrolled": false
   },
   "outputs": [],
   "source": [
    "# modified for OpenMFC\n",
    "count = 0\n",
    "for sample in dataset:\n",
    "    \n",
    "    count += 1\n",
    "    \n",
    "    sample_probe = openmfc_2020_p1_probe + '/' + sample\n",
    "    \n",
    "    # load the original image for reference\n",
    "    # ori = read_rgb_image( orig_resized_filename )\n",
    "    \n",
    "    # manipulation detection using ManTraNet\n",
    "    # rgb, mask, ptime = decode_an_image_file( sample_path, manTraNet )\n",
    "    \n",
    "    # manipulation detection using slicing\n",
    "    mask, ptime = slice_and_decode( sample_probe, manTraNet )\n",
    "    \n",
    "    # show results\n",
    "    pyplot.figure( figsize=(25,25) )\n",
    "    \n",
    "    pyplot.subplot(2, 2, 1)\n",
    "    sample_image = pyplot.imread(sample_probe)\n",
    "    pyplot.imshow( sample_image )\n",
    "    pyplot.title('Forged Image (ManTra-Net Input)')\n",
    "    \n",
    "    pyplot.subplot(2, 2, 2)\n",
    "    pyplot.imshow( mask, cmap='gray' )\n",
    "    pyplot.title('Predicted Mask (ManTra-Net Output w/ Slicing)')\n",
    "\n",
    "#     pyplot.subplot(2, 2, 3)\n",
    "#     actual_mask = pyplot.imread(mask_file)\n",
    "#     pyplot.imshow(actual_mask, cmap='gray')\n",
    "#     pyplot.title('Actual Mask (CG-1050)')\n",
    "    \n",
    "#     pyplot.subplot(2, 2, 4)\n",
    "#     actual_mask = pyplot.imread(mask_file)\n",
    "#     pyplot.imshow(actual_mask, cmap='gray')\n",
    "#     pyplot.title('Actual Mask (CG-1050)')\n",
    "    \n",
    "    pyplot.suptitle('Decoded {} of size {} for {:.2f} seconds'.format( os.path.basename( sample_probe ), 'rgb.shape', ptime ) )\n",
    "    \n",
    "    pyplot.show()\n",
    "    \n",
    "    if count >= 10:\n",
    "        break # remove break to test on more images"
   ]
  },
  {
   "cell_type": "code",
   "execution_count": null,
   "id": "d85df269",
   "metadata": {},
   "outputs": [],
   "source": []
  }
 ],
 "metadata": {
  "kernelspec": {
   "display_name": "Python 3",
   "language": "python",
   "name": "python3"
  },
  "language_info": {
   "codemirror_mode": {
    "name": "ipython",
    "version": 3
   },
   "file_extension": ".py",
   "mimetype": "text/x-python",
   "name": "python",
   "nbconvert_exporter": "python",
   "pygments_lexer": "ipython3",
   "version": "3.6.13"
  }
 },
 "nbformat": 4,
 "nbformat_minor": 5
}
