{
 "cells": [
  {
   "cell_type": "markdown",
   "id": "59f86609",
   "metadata": {},
   "source": [
    "# check gpu resources"
   ]
  },
  {
   "cell_type": "code",
   "execution_count": null,
   "id": "58eb6566",
   "metadata": {},
   "outputs": [],
   "source": [
    "# gpu resources\n",
    "! nvidia-smi"
   ]
  },
  {
   "cell_type": "markdown",
   "id": "760644f6",
   "metadata": {},
   "source": [
    "# running ManTraNet on OpenMFC dataset"
   ]
  },
  {
   "cell_type": "code",
   "execution_count": null,
   "id": "2a18f113",
   "metadata": {},
   "outputs": [],
   "source": [
    "import os\n",
    "import numpy as np\n",
    "import pandas as pd\n",
    "import cv2\n",
    "import requests\n",
    "import sys\n",
    "\n",
    "from PIL import Image\n",
    "from io import BytesIO\n",
    "from matplotlib import pyplot"
   ]
  },
  {
   "cell_type": "code",
   "execution_count": null,
   "id": "d4d518ea",
   "metadata": {},
   "outputs": [],
   "source": [
    "# ManTraNet paths\n",
    "manTraNet_root = './'\n",
    "manTraNet_srcDir = os.path.join( manTraNet_root, 'src' )\n",
    "sys.path.insert( 0, manTraNet_srcDir )\n",
    "manTraNet_modelDir = os.path.join( manTraNet_root, 'pretrained_weights' )"
   ]
  },
  {
   "cell_type": "markdown",
   "id": "50661d43",
   "metadata": {},
   "source": [
    "# setup dataset paths"
   ]
  },
  {
   "cell_type": "code",
   "execution_count": null,
   "id": "74771e02",
   "metadata": {},
   "outputs": [],
   "source": [
    "# OpenMFC dataset\n",
    "mfc_data = os.path.join(manTraNet_root, 'openmfc_data')\n",
    "openmfc_2020 = os.path.join(mfc_data, 'OpenMFC2020')\n",
    "\n",
    "openmfc_2020_p1 = os.path.join(openmfc_2020, 'OpenMFC20_Image_Ver1-part001of27')\n",
    "openmfc_2020_p1_indexes = os.path.join(openmfc_2020_p1, 'indexes')\n",
    "openmfc_2020_p1_probe = os.path.join(openmfc_2020_p1, 'probe')"
   ]
  },
  {
   "cell_type": "markdown",
   "id": "f114cae5",
   "metadata": {},
   "source": [
    "# load dataset description"
   ]
  },
  {
   "cell_type": "code",
   "execution_count": null,
   "id": "12be383d",
   "metadata": {},
   "outputs": [],
   "source": [
    "imdl_index_path = os.path.join(openmfc_2020_p1_indexes, 'OpenMFC20_Image-IMDL-index.csv')"
   ]
  },
  {
   "cell_type": "code",
   "execution_count": null,
   "id": "3cb401a1",
   "metadata": {},
   "outputs": [],
   "source": [
    "df = pd.read_csv(imdl_index_path, sep='|')"
   ]
  },
  {
   "cell_type": "code",
   "execution_count": null,
   "id": "de6ae142",
   "metadata": {},
   "outputs": [],
   "source": [
    "df.head()"
   ]
  },
  {
   "cell_type": "code",
   "execution_count": null,
   "id": "f1cb08de",
   "metadata": {},
   "outputs": [],
   "source": [
    "df['TaskID'].unique()"
   ]
  },
  {
   "cell_type": "markdown",
   "id": "419613c0",
   "metadata": {},
   "source": [
    "# build dataset list"
   ]
  },
  {
   "cell_type": "code",
   "execution_count": null,
   "id": "a2d572e8",
   "metadata": {
    "scrolled": true
   },
   "outputs": [],
   "source": [
    "dataset = os.listdir(openmfc_2020_p1_probe)"
   ]
  },
  {
   "cell_type": "markdown",
   "id": "411605bb",
   "metadata": {},
   "source": [
    "# Load A Pretrained ManTraNet Model"
   ]
  },
  {
   "cell_type": "code",
   "execution_count": null,
   "id": "e7f7a6f4",
   "metadata": {},
   "outputs": [],
   "source": [
    "import modelCore # try running nvidia-smi at the top after the model loads to see model memory requirements\n",
    "manTraNet = modelCore.load_pretrain_model_by_index( 4, manTraNet_modelDir )"
   ]
  },
  {
   "cell_type": "code",
   "execution_count": null,
   "id": "b52003d2",
   "metadata": {
    "scrolled": true
   },
   "outputs": [],
   "source": [
    "# ManTraNet Architecture \n",
    "print(manTraNet.summary(line_length=120))"
   ]
  },
  {
   "cell_type": "code",
   "execution_count": null,
   "id": "4d1f2191",
   "metadata": {
    "scrolled": true
   },
   "outputs": [],
   "source": [
    "# Image Manipulation Classification Network\n",
    "IMCFeatex = manTraNet.get_layer('Featex')\n",
    "print(IMCFeatex.summary(line_length=120))"
   ]
  },
  {
   "cell_type": "markdown",
   "id": "8fb616b7",
   "metadata": {},
   "source": [
    "# test samples from OpenMFC"
   ]
  },
  {
   "cell_type": "code",
   "execution_count": null,
   "id": "55ff8842",
   "metadata": {},
   "outputs": [],
   "source": [
    "from datetime import datetime \n",
    "def read_rgb_image( image_file ) :\n",
    "    rgb = cv2.imread( image_file, 1 )[...,::-1]\n",
    "    return rgb\n",
    "    \n",
    "def decode_an_image_array( rgb, manTraNet ) :\n",
    "    x = np.expand_dims( rgb.astype('float32')/255.*2-1, axis=0 )\n",
    "    t0 = datetime.now()\n",
    "    # y = manTraNet.predict(x)[0,...,0]\n",
    "    t1 = datetime.now()\n",
    "    return y, t1-t0\n",
    "\n",
    "def decode_an_image_file( image_file, manTraNet ) :\n",
    "    rgb = read_rgb_image( image_file )\n",
    "    mask, ptime = decode_an_image_array( rgb, manTraNet )\n",
    "    return rgb, mask, ptime.total_seconds()"
   ]
  },
  {
   "cell_type": "code",
   "execution_count": null,
   "id": "65ff35e0",
   "metadata": {
    "scrolled": false
   },
   "outputs": [],
   "source": [
    "# modified for OpenMFC\n",
    "\n",
    "for sample in dataset:\n",
    "    \n",
    "    sample_path = openmfc_2020_p1_probe + '/' + sample\n",
    "    \n",
    "    # load the original image for reference\n",
    "    # ori = read_rgb_image( orig_resized_filename )\n",
    "    # manipulation detection using ManTraNet\n",
    "    rgb, mask, ptime = decode_an_image_file( sample_path, manTraNet )\n",
    "    \n",
    "    # show results\n",
    "    pyplot.figure( figsize=(25,25) )\n",
    "    \n",
    "    pyplot.subplot(2, 2, 1)\n",
    "    pyplot.imshow( rgb )\n",
    "    pyplot.title('Forged Image (ManTra-Net Input)')\n",
    "    \n",
    "    pyplot.subplot(2, 2, 2)\n",
    "    pyplot.imshow( mask, cmap='gray' )\n",
    "    pyplot.title('Predicted Mask (ManTra-Net Output)')\n",
    "\n",
    "#     pyplot.subplot(2, 2, 4)\n",
    "#     actual_mask = pyplot.imread(mask_file)\n",
    "#     pyplot.imshow(actual_mask, cmap='gray')\n",
    "#     pyplot.title('Actual Mask (CG-1050)')\n",
    "    \n",
    "    pyplot.suptitle('Decoded {} of size {} for {:.2f} seconds'.format( os.path.basename( tampered_file ), rgb.shape, ptime ) )\n",
    "    \n",
    "    pyplot.show()\n",
    "    \n",
    "    break # remove break to test on more images"
   ]
  },
  {
   "cell_type": "code",
   "execution_count": null,
   "id": "6956abf6",
   "metadata": {},
   "outputs": [],
   "source": []
  }
 ],
 "metadata": {
  "kernelspec": {
   "display_name": "Python 3",
   "language": "python",
   "name": "python3"
  },
  "language_info": {
   "codemirror_mode": {
    "name": "ipython",
    "version": 3
   },
   "file_extension": ".py",
   "mimetype": "text/x-python",
   "name": "python",
   "nbconvert_exporter": "python",
   "pygments_lexer": "ipython3",
   "version": "3.6.13"
  }
 },
 "nbformat": 4,
 "nbformat_minor": 5
}
