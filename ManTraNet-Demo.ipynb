{
 "cells": [
  {
   "cell_type": "markdown",
   "metadata": {
    "colab_type": "text",
    "id": "view-in-github"
   },
   "source": [
    "<a href=\"https://colab.research.google.com/github/rex-yue-wu/DEC-Keras/blob/master/ManTraNet-Demo.ipynb\" target=\"_parent\"><img src=\"https://colab.research.google.com/assets/colab-badge.svg\" alt=\"Open In Colab\"/></a>"
   ]
  },
  {
   "cell_type": "markdown",
   "metadata": {
    "colab_type": "text",
    "id": "mGN6cggOfBYk"
   },
   "source": [
    "# ManTra-Net: Manipulation Tracing Network For Detection and Localization of Image Forgeries With Anomalous Features\n",
    "\n",
    "## This is a simple demonstrative notebook for the pretrained ManTra-Net\n",
    "\n",
    "## Note:\n",
    "\n",
    "- Please make sure you run this notebook with the GPU support. You may see tensorflow errors when decoding images of very large sizes, e.g. 2048x3072.\n",
    "- All lib/data paths used in this notebook is relative. In case you run this notebook outside of its original location, please fix the data paths."
   ]
  },
  {
   "cell_type": "markdown",
   "metadata": {
    "colab_type": "text",
    "id": "K9-E1qT5fTyn"
   },
   "source": [
    "# 1. Download the ManTraNet Repo"
   ]
  },
  {
   "cell_type": "code",
   "execution_count": null,
   "metadata": {
    "colab": {
     "base_uri": "https://localhost:8080/",
     "height": 165
    },
    "colab_type": "code",
    "id": "hmvY3irIe3gr",
    "outputId": "21c5a0f5-051f-4328-870a-10c8362a9d84"
   },
   "outputs": [],
   "source": [
    "!rm -rf ManTraNet\n",
    "!git clone https://github.com/ISICV/ManTraNet.git\n"
   ]
  },
  {
   "cell_type": "markdown",
   "metadata": {
    "colab_type": "text",
    "id": "yBcO3gXkfexO"
   },
   "source": [
    "# 2. Import Dependent Libs and Set Paths"
   ]
  },
  {
   "cell_type": "code",
   "execution_count": null,
   "metadata": {
    "colab": {},
    "colab_type": "code",
    "id": "XkSm0E62Z9E5"
   },
   "outputs": [],
   "source": [
    "import os\n",
    "import numpy as np \n",
    "import cv2\n",
    "import requests\n",
    "import sys\n",
    "\n",
    "from PIL import Image\n",
    "from io import BytesIO\n",
    "from matplotlib import pyplot"
   ]
  },
  {
   "cell_type": "code",
   "execution_count": null,
   "metadata": {
    "colab": {},
    "colab_type": "code",
    "id": "fLLbde5IfvOn"
   },
   "outputs": [],
   "source": [
    "manTraNet_root = './'\n",
    "manTraNet_srcDir = os.path.join( manTraNet_root, 'src' )\n",
    "sys.path.insert( 0, manTraNet_srcDir )\n",
    "manTraNet_modelDir = os.path.join( manTraNet_root, 'pretrained_weights' )"
   ]
  },
  {
   "cell_type": "markdown",
   "metadata": {
    "colab_type": "text",
    "id": "F_68Ehftf-Yo"
   },
   "source": [
    "# 3. Load Sample Data "
   ]
  },
  {
   "cell_type": "code",
   "execution_count": null,
   "metadata": {
    "colab": {
     "base_uri": "https://localhost:8080/",
     "height": 34
    },
    "colab_type": "code",
    "id": "OfG_uW5FgKlw",
    "outputId": "f2a91ffa-985d-4f65-c3bd-e6640ac746b9"
   },
   "outputs": [],
   "source": [
    "manTraNet_dataDir = os.path.join( manTraNet_root, 'data' )\n",
    "sample_file = os.path.join( manTraNet_dataDir, 'samplePairs.csv' )\n",
    "assert os.path.isfile( sample_file ), \"ERROR: can NOT find sample data, check `manTraNet_root`\"\n",
    "with open( sample_file ) as IN :\n",
    "    sample_pairs = [line.strip().split(',') for line in IN.readlines() ]\n",
    "L = len(sample_pairs)\n",
    "print(\"INFO: in total, load\", L, \"samples\")\n",
    "    \n",
    "def get_a_random_pair() :\n",
    "    idx = np.random.randint(0,L)\n",
    "    return ( os.path.join( manTraNet_dataDir, this ) for this in sample_pairs[idx] ) "
   ]
  },
  {
   "cell_type": "code",
   "execution_count": null,
   "metadata": {},
   "outputs": [],
   "source": [
    "sample_pairs[:5]"
   ]
  },
  {
   "cell_type": "markdown",
   "metadata": {
    "colab_type": "text",
    "id": "q71lTGuugVoy"
   },
   "source": [
    "# 4. Load A Pretrained ManTraNet Model"
   ]
  },
  {
   "cell_type": "code",
   "execution_count": null,
   "metadata": {
    "colab": {
     "base_uri": "https://localhost:8080/",
     "height": 149
    },
    "colab_type": "code",
    "id": "iFVAQIBmgdr3",
    "outputId": "0550880e-2c41-4d2c-c0ff-cc481bfd45c2"
   },
   "outputs": [],
   "source": [
    "import modelCore\n",
    "manTraNet = modelCore.load_pretrain_model_by_index( 4, manTraNet_modelDir )"
   ]
  },
  {
   "cell_type": "code",
   "execution_count": null,
   "metadata": {
    "colab": {
     "base_uri": "https://localhost:8080/",
     "height": 510
    },
    "colab_type": "code",
    "id": "HAu-EWn2i3XU",
    "outputId": "2be04ae0-7b1b-44c0-fdf2-0bcd067ffa2c"
   },
   "outputs": [],
   "source": [
    "# ManTraNet Architecture \n",
    "print(manTraNet.summary(line_length=120))"
   ]
  },
  {
   "cell_type": "code",
   "execution_count": null,
   "metadata": {
    "colab": {
     "base_uri": "https://localhost:8080/",
     "height": 663
    },
    "colab_type": "code",
    "id": "Gz9AfjZljJN8",
    "outputId": "e1304416-dd3e-43ff-a867-8c7f9e7ca48b"
   },
   "outputs": [],
   "source": [
    "# Image Manipulation Classification Network\n",
    "IMCFeatex = manTraNet.get_layer('Featex')\n",
    "print(IMCFeatex.summary(line_length=120))"
   ]
  },
  {
   "cell_type": "markdown",
   "metadata": {
    "colab_type": "text",
    "id": "8Q9xXMAgjvvM"
   },
   "source": [
    "# 5. Play With The Provided Sample Data\n",
    "\n",
    "## Note: we don't need original image files for forgery detection. They are included here to demonstrate the effectiveness of the ManTra-Net.\n"
   ]
  },
  {
   "cell_type": "code",
   "execution_count": null,
   "metadata": {
    "colab": {},
    "colab_type": "code",
    "id": "WNRCJeZjjvHm"
   },
   "outputs": [],
   "source": [
    "from datetime import datetime \n",
    "def read_rgb_image( image_file ) :\n",
    "    rgb = cv2.imread( image_file, 1 )[...,::-1]\n",
    "    return rgb\n",
    "    \n",
    "def decode_an_image_array( rgb, manTraNet ) :\n",
    "    x = np.expand_dims( rgb.astype('float32')/255.*2-1, axis=0 )\n",
    "    t0 = datetime.now()\n",
    "    y = manTraNet.predict(x)[0,...,0]\n",
    "    t1 = datetime.now()\n",
    "    return y, t1-t0\n",
    "\n",
    "def decode_an_image_file( image_file, manTraNet ) :\n",
    "    rgb = read_rgb_image( image_file )\n",
    "    mask, ptime = decode_an_image_array( rgb, manTraNet )\n",
    "    return rgb, mask, ptime.total_seconds()"
   ]
  },
  {
   "cell_type": "code",
   "execution_count": null,
   "metadata": {
    "colab": {
     "base_uri": "https://localhost:8080/",
     "height": 2563
    },
    "colab_type": "code",
    "id": "HOoRRthWkG21",
    "outputId": "8391cd70-5650-4422-d958-5a5f6faca43b"
   },
   "outputs": [],
   "source": [
    "for k in range(8) :\n",
    "    # get a sample\n",
    "    forged_file, original_file = get_a_random_pair()\n",
    "    # load the original image just for reference\n",
    "    ori = read_rgb_image( original_file )\n",
    "    # manipulation detection using ManTraNet\n",
    "    rgb, mask, ptime = decode_an_image_file( forged_file, manTraNet ) \n",
    "    # show results\n",
    "    pyplot.figure( figsize=(15,5) )\n",
    "    pyplot.subplot(131)\n",
    "    pyplot.imshow( ori )\n",
    "    pyplot.title('Original Image')\n",
    "    pyplot.subplot(132)\n",
    "    pyplot.imshow( rgb )\n",
    "    pyplot.title('Forged Image (ManTra-Net Input)')\n",
    "    pyplot.subplot(133)\n",
    "    pyplot.imshow( mask, cmap='gray' )\n",
    "    pyplot.title('Predicted Mask (ManTra-Net Output)')\n",
    "    pyplot.suptitle('Decoded {} of size {} for {:.2f} seconds'.format( os.path.basename( forged_file ), rgb.shape, ptime ) )\n",
    "    pyplot.show()"
   ]
  },
  {
   "cell_type": "markdown",
   "metadata": {
    "colab_type": "text",
    "id": "B7ZmPCrCkp1H"
   },
   "source": [
    "# 6. Play with Internet Data\n",
    "\n",
    "### Note: Internet images are often compressed and/or resized, and this means subtle manipulations will be much more difficult to detect after such postprocessing. \n",
    "\n",
    "### Therefore, don't be surprised if you see ManTraNet fails on some sample. \n"
   ]
  },
  {
   "cell_type": "code",
   "execution_count": null,
   "metadata": {
    "colab": {},
    "colab_type": "code",
    "id": "2bN1n4LLau-M"
   },
   "outputs": [],
   "source": [
    "def get_image_from_url(url, xrange=None, yrange=None) :\n",
    "    response = requests.get(url)\n",
    "    img = Image.open(BytesIO(response.content))\n",
    "    img = np.array(img)\n",
    "    if img.shape[-1] > 3 :\n",
    "        img = img[...,:3]\n",
    "    ori = np.array(img)\n",
    "    if xrange is not None :\n",
    "        img = img[:,xrange[0]:xrange[1]]\n",
    "    if yrange is not None :\n",
    "        img = img[yrange[0]:yrange[1]]\n",
    "    mask, ptime =  decode_an_image_array( img, manTraNet )\n",
    "    ptime = ptime.total_seconds()\n",
    "    # show results\n",
    "    if xrange is None and yrange is None :\n",
    "        pyplot.figure( figsize=(15,5) )\n",
    "        pyplot.title('Original Image')\n",
    "        pyplot.subplot(131)\n",
    "        pyplot.imshow( img )\n",
    "        pyplot.title('Forged Image (ManTra-Net Input)')\n",
    "        pyplot.subplot(132)\n",
    "        pyplot.imshow( mask, cmap='gray' )\n",
    "        pyplot.title('Predicted Mask (ManTra-Net Output)')\n",
    "        pyplot.subplot(133)\n",
    "        pyplot.imshow( np.round(np.expand_dims(mask,axis=-1) * img).astype('uint8'), cmap='jet' )\n",
    "        pyplot.title('Highlighted Forged Regions')\n",
    "        pyplot.suptitle('Decoded {} of size {} for {:.2f} seconds'.format( url, rgb.shape, ptime ) )\n",
    "        pyplot.show()\n",
    "    "
   ]
  },
  {
   "cell_type": "code",
   "execution_count": null,
   "metadata": {
    "colab": {
     "base_uri": "https://localhost:8080/",
     "height": 326
    },
    "colab_type": "code",
    "id": "eBu-fqajvmxi",
    "outputId": "73c07155-074a-406a-d300-943fb9f43d6b"
   },
   "outputs": [],
   "source": [
    "get_image_from_url('https://www.stockvault.net/blog/wp-content/uploads/2015/08/july-2.jpg')"
   ]
  },
  {
   "cell_type": "code",
   "execution_count": null,
   "metadata": {
    "colab": {
     "base_uri": "https://localhost:8080/",
     "height": 302
    },
    "colab_type": "code",
    "id": "GznGCU9vqubG",
    "outputId": "53487601-9772-4faa-f23f-367a6e7fdd1b"
   },
   "outputs": [],
   "source": [
    " get_image_from_url('https://i.imgur.com/2gS6lgL.png')"
   ]
  },
  {
   "cell_type": "code",
   "execution_count": null,
   "metadata": {
    "colab": {
     "base_uri": "https://localhost:8080/",
     "height": 312
    },
    "colab_type": "code",
    "id": "dBMe58uAtuak",
    "outputId": "2537fb17-a453-4b99-ba81-9a91b760dca7"
   },
   "outputs": [],
   "source": [
    "get_image_from_url('https://www.siliconbeachtraining.co.uk/img/image_1507964385_7e98ab1037f68477c6135f6f8eea280d.jpeg')"
   ]
  },
  {
   "cell_type": "code",
   "execution_count": null,
   "metadata": {
    "colab": {
     "base_uri": "https://localhost:8080/",
     "height": 301
    },
    "colab_type": "code",
    "id": "L8me-b8gz8CH",
    "outputId": "c8de5f90-d825-4958-b5c3-18eb081206d3"
   },
   "outputs": [],
   "source": [
    "get_image_from_url('https://i.kinja-img.com/gawker-media/image/upload/s--SKrtz7en--/c_scale,f_auto,fl_progressive,q_80,w_800/wumjq8ed0k1hfv0smwma.jpg')"
   ]
  },
  {
   "cell_type": "code",
   "execution_count": null,
   "metadata": {
    "colab": {},
    "colab_type": "code",
    "id": "npSBzXlrH44x"
   },
   "outputs": [],
   "source": []
  }
 ],
 "metadata": {
  "accelerator": "GPU",
  "colab": {
   "include_colab_link": true,
   "name": "ManTra-Net Demo.ipynb",
   "provenance": [],
   "version": "0.3.2"
  },
  "kernelspec": {
   "display_name": "Python 3",
   "language": "python",
   "name": "python3"
  },
  "language_info": {
   "codemirror_mode": {
    "name": "ipython",
    "version": 3
   },
   "file_extension": ".py",
   "mimetype": "text/x-python",
   "name": "python",
   "nbconvert_exporter": "python",
   "pygments_lexer": "ipython3",
   "version": "3.6.13"
  }
 },
 "nbformat": 4,
 "nbformat_minor": 1
}
