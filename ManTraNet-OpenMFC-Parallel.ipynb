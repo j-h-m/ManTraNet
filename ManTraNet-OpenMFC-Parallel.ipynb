{
 "cells": [
  {
   "cell_type": "markdown",
   "id": "19ba9d63",
   "metadata": {},
   "source": [
    "# check gpu resources"
   ]
  },
  {
   "cell_type": "code",
   "execution_count": null,
   "id": "e15791ac",
   "metadata": {
    "scrolled": true
   },
   "outputs": [],
   "source": [
    "# gpu resources\n",
    "! nvidia-smi"
   ]
  },
  {
   "cell_type": "markdown",
   "id": "4137e2ea",
   "metadata": {},
   "source": [
    "# running ManTraNet on OpenMFC dataset in Parallel"
   ]
  },
  {
   "cell_type": "code",
   "execution_count": null,
   "id": "f67e4dad",
   "metadata": {},
   "outputs": [],
   "source": [
    "import os\n",
    "import sys\n",
    "import numpy as np\n",
    "import pandas as pd\n",
    "import cv2\n",
    "import requests\n",
    "import sys\n",
    "import image_slicer\n",
    "import time\n",
    "import tensorflow as tf\n",
    "import pandas as pd\n",
    "import ipyparallel as ipp\n",
    "\n",
    "from tqdm.notebook import tqdm\n",
    "from PIL import Image\n",
    "from io import BytesIO\n",
    "from matplotlib import pyplot\n",
    "from PIL import UnidentifiedImageError\n",
    "from datetime import datetime "
   ]
  },
  {
   "cell_type": "code",
   "execution_count": null,
   "id": "aa2194f3",
   "metadata": {},
   "outputs": [],
   "source": [
    "# ManTraNet paths\n",
    "manTraNet_root = './'\n",
    "manTraNet_srcDir = os.path.join( manTraNet_root, 'src' )\n",
    "sys.path.insert( 0, manTraNet_srcDir )\n",
    "manTraNet_modelDir = os.path.join( manTraNet_root, 'pretrained_weights' )"
   ]
  },
  {
   "cell_type": "markdown",
   "id": "53c7563f",
   "metadata": {},
   "source": [
    "# setup dataset paths"
   ]
  },
  {
   "cell_type": "code",
   "execution_count": null,
   "id": "76921c2e",
   "metadata": {},
   "outputs": [],
   "source": [
    "# set the part #'s\n",
    "dataset_part_nums = [1, 2, 3, 4]\n",
    "datasets = []"
   ]
  },
  {
   "cell_type": "code",
   "execution_count": null,
   "id": "e8515cb7",
   "metadata": {},
   "outputs": [],
   "source": [
    "# OpenMFC dataset\n",
    "mfc_data = os.path.join(manTraNet_root, 'openmfc_data')\n",
    "openmfc_2020 = os.path.join(mfc_data, 'OpenMFC2020')\n",
    "\n",
    "# p1 for index\n",
    "openmfc_2020_p1 = os.path.join(openmfc_2020, 'OpenMFC20_Image_Ver1-part001of27')\n",
    "openmfc_2020_p1_indexes = os.path.join(openmfc_2020_p1, 'indexes')\n",
    "\n",
    "# setup part list\n",
    "for part_num in dataset_part_nums:\n",
    "    if (part_num < 10):\n",
    "        openmfc_2020_part = os.path.join(openmfc_2020, f'OpenMFC20_Image_Ver1-part00{part_num}of27')\n",
    "    else:\n",
    "        openmfc_2020_part = os.path.join(openmfc_2020, f'OpenMFC20_Image_Ver1-part0{part_num}of27')\n",
    "\n",
    "    openmfc_2020_part_probe = os.path.join(openmfc_2020_part, 'probe')\n",
    "    openmfc_2020_part_mask_out = os.path.join(openmfc_2020_part, 'predicted_masks')\n",
    "    datasets.append(\n",
    "        (openmfc_2020_part, openmfc_2020_part_probe, os.listdir(openmfc_2020_part_probe), openmfc_2020_part_mask_out)\n",
    "    )\n",
    "\n",
    "datasets"
   ]
  },
  {
   "cell_type": "markdown",
   "id": "8573dd32",
   "metadata": {},
   "source": [
    "# load dataset description"
   ]
  },
  {
   "cell_type": "code",
   "execution_count": null,
   "id": "31dc5c63",
   "metadata": {},
   "outputs": [],
   "source": [
    "imdl_index_path = os.path.join(openmfc_2020_p1_indexes, 'OpenMFC20_Image-IMDL-index.csv')"
   ]
  },
  {
   "cell_type": "code",
   "execution_count": null,
   "id": "327b81b0",
   "metadata": {},
   "outputs": [],
   "source": [
    "df = pd.read_csv(imdl_index_path, sep='|')"
   ]
  },
  {
   "cell_type": "code",
   "execution_count": null,
   "id": "9144a2cc",
   "metadata": {},
   "outputs": [],
   "source": [
    "df.head()"
   ]
  },
  {
   "cell_type": "markdown",
   "id": "68b45cbf",
   "metadata": {},
   "source": [
    "# ipyparallel engine and view setup"
   ]
  },
  {
   "cell_type": "code",
   "execution_count": null,
   "id": "58e0b417",
   "metadata": {},
   "outputs": [],
   "source": [
    "! ipcluster start -n 4 --daemonize"
   ]
  },
  {
   "cell_type": "code",
   "execution_count": null,
   "id": "aa15a043",
   "metadata": {},
   "outputs": [],
   "source": [
    "client = ipp.Client()"
   ]
  },
  {
   "cell_type": "code",
   "execution_count": null,
   "id": "a34c846a",
   "metadata": {},
   "outputs": [],
   "source": [
    "client.ids"
   ]
  },
  {
   "cell_type": "code",
   "execution_count": null,
   "id": "6a4e2031",
   "metadata": {},
   "outputs": [],
   "source": [
    "view = client[:]"
   ]
  },
  {
   "cell_type": "markdown",
   "id": "c8554149",
   "metadata": {},
   "source": [
    "# parallel function setup"
   ]
  },
  {
   "cell_type": "code",
   "execution_count": null,
   "id": "d086daf8",
   "metadata": {},
   "outputs": [],
   "source": [
    "def p_prediction(dataset):\n",
    "    # break dataset for process out into individual elements of created Tuple\n",
    "    part_path, part_probe_path, probes, mask_out_path = dataset    \n",
    "    # load pretrained mantranet model\n",
    "    import modelCore\n",
    "    manTraNet = modelCore.load_pretrain_model_by_index( 4, manTraNet_modelDir )\n",
    "    # import functions for prediction\n",
    "    import lib\n",
    "    # run prediction on probes and return result\n",
    "    \n",
    "    start = time.time()\n",
    "    failures = []\n",
    "\n",
    "    for sample in part_probe:\n",
    "        try:\n",
    "            sample_probe = part_probe_path + '/' + sample\n",
    "            # manipulation detection using slicing\n",
    "            mask, ptime = lib.slice_and_decode( sample_probe, manTraNet )\n",
    "            mask_filename = mask_out_path + '/'+ os.path.splitext(sample)[0] + '_mask' + '.png'\n",
    "            # save mask to mask path\n",
    "            mask.save(fp=mask_filename, format='PNG')\n",
    "        except UnidentifiedImageError as err:\n",
    "            failures.append((sample, err))\n",
    "        except tf.errors.ResourceExhaustedError as err:\n",
    "            failures.append((sample, err))\n",
    "        except:\n",
    "            failures.append((sample, sys.exc_info()[0]))\n",
    "\n",
    "    time_msg = f'all probes completed in {time.time() - start} seconds'\n",
    "    failure_count_msg = f'failure count: {len(failures)}'\n",
    "    df = pd.DataFrame(failures, columns=['FileName', 'Error'])\n",
    "    df.to_csv(os.path.join(part_path, 'failures.csv'))\n",
    "    \n",
    "    return (time_msg, failure_count_msg)"
   ]
  },
  {
   "cell_type": "markdown",
   "id": "97918c78",
   "metadata": {},
   "source": [
    "# run in parallel on probes"
   ]
  },
  {
   "cell_type": "code",
   "execution_count": null,
   "id": "ddc19e6e",
   "metadata": {},
   "outputs": [],
   "source": [
    "results = view.map(p_prediction, datasets)"
   ]
  },
  {
   "cell_type": "markdown",
   "id": "ee8d053c",
   "metadata": {},
   "source": [
    "# cleanup ipyparallel resources"
   ]
  },
  {
   "cell_type": "code",
   "execution_count": null,
   "id": "6f2b45e8",
   "metadata": {},
   "outputs": [],
   "source": [
    "! ipcluster stop\n",
    "\n",
    "client.shutdown()\n",
    "client.close()"
   ]
  }
 ],
 "metadata": {
  "kernelspec": {
   "display_name": "Python 3",
   "language": "python",
   "name": "python3"
  },
  "language_info": {
   "codemirror_mode": {
    "name": "ipython",
    "version": 3
   },
   "file_extension": ".py",
   "mimetype": "text/x-python",
   "name": "python",
   "nbconvert_exporter": "python",
   "pygments_lexer": "ipython3",
   "version": "3.6.13"
  }
 },
 "nbformat": 4,
 "nbformat_minor": 5
}
