{
 "cells": [
  {
   "cell_type": "markdown",
   "id": "9fb7436d",
   "metadata": {},
   "source": [
    "# check gpu resources"
   ]
  },
  {
   "cell_type": "code",
   "execution_count": null,
   "id": "f4dc8049",
   "metadata": {},
   "outputs": [],
   "source": [
    "# gpu resources\n",
    "! nvidia-smi"
   ]
  },
  {
   "cell_type": "markdown",
   "id": "5444dbe0",
   "metadata": {},
   "source": [
    "# testing ManTraNet on different datasets"
   ]
  },
  {
   "cell_type": "code",
   "execution_count": null,
   "id": "1551324a",
   "metadata": {},
   "outputs": [],
   "source": [
    "import os\n",
    "import numpy as np\n",
    "import pandas as pd\n",
    "import cv2\n",
    "import requests\n",
    "import sys\n",
    "import image_slicer\n",
    "\n",
    "from PIL import Image\n",
    "from io import BytesIO\n",
    "from matplotlib import pyplot"
   ]
  },
  {
   "cell_type": "code",
   "execution_count": null,
   "id": "07868097",
   "metadata": {},
   "outputs": [],
   "source": [
    "# ManTraNet paths\n",
    "manTraNet_root = './'\n",
    "manTraNet_srcDir = os.path.join( manTraNet_root, 'src' )\n",
    "sys.path.insert( 0, manTraNet_srcDir )\n",
    "manTraNet_modelDir = os.path.join( manTraNet_root, 'pretrained_weights' )"
   ]
  },
  {
   "cell_type": "markdown",
   "id": "be9b0c9f",
   "metadata": {},
   "source": [
    "# setup dataset paths"
   ]
  },
  {
   "cell_type": "code",
   "execution_count": null,
   "id": "32036d46",
   "metadata": {},
   "outputs": [],
   "source": [
    "# sample ManTraNet datasets included in repo\n",
    "manTraNet_dataDir = os.path.join( manTraNet_root, 'data' )\n",
    "sample_file = os.path.join( manTraNet_dataDir, 'samplePairs.csv' )\n",
    "print(sample_file)\n",
    "assert os.path.isfile( sample_file ), \"ERROR: can NOT find sample data, check `manTraNet_root`\"\n",
    "with open( sample_file ) as IN :\n",
    "    sample_pairs = [line.strip().split(',') for line in IN.readlines() ]\n",
    "L = len(sample_pairs)\n",
    "print(\"INFO: in total, load\", L, \"samples\")\n",
    "    \n",
    "def get_a_random_pair() :\n",
    "    idx = np.random.randint(0,L)\n",
    "    return ( os.path.join( manTraNet_dataDir, this ) for this in sample_pairs[idx] ) "
   ]
  },
  {
   "cell_type": "code",
   "execution_count": null,
   "id": "9572635e",
   "metadata": {},
   "outputs": [],
   "source": [
    "# CG-1050 dataset\n",
    "mfc_data = os.path.join(manTraNet_root, 'openmfc_data')\n",
    "cg_1050 = os.path.join(mfc_data, 'CG_1050')\n",
    "cg_1050_description = os.path.join(cg_1050, 'DESCRIPTION')\n",
    "\n",
    "cg_1050_mask = os.path.join(cg_1050, 'MASK')\n",
    "cg_1050_original = os.path.join(cg_1050, 'ORIGINAL')\n",
    "cg_1050_tampered = os.path.join(cg_1050, 'TAMPERED')"
   ]
  },
  {
   "cell_type": "markdown",
   "id": "6ad8b3a6",
   "metadata": {},
   "source": [
    "# load dataset description"
   ]
  },
  {
   "cell_type": "code",
   "execution_count": null,
   "id": "143b37b0",
   "metadata": {},
   "outputs": [],
   "source": [
    "description_path = os.path.join(cg_1050_description, 'Dataset_description_v2.csv')\n",
    "\n",
    "df = pd.read_csv(description_path)"
   ]
  },
  {
   "cell_type": "code",
   "execution_count": null,
   "id": "c6f7edf2",
   "metadata": {},
   "outputs": [],
   "source": [
    "df.head()"
   ]
  },
  {
   "cell_type": "code",
   "execution_count": null,
   "id": "567499bb",
   "metadata": {},
   "outputs": [],
   "source": [
    "df.loc[df['PHOTO NAME (Original)'] == 'Im_12']"
   ]
  },
  {
   "cell_type": "markdown",
   "id": "94d57d49",
   "metadata": {},
   "source": [
    "# build dataset list"
   ]
  },
  {
   "cell_type": "code",
   "execution_count": null,
   "id": "beff31a9",
   "metadata": {},
   "outputs": [],
   "source": [
    "df[\"tamper_path\"] = df[\"FOLDER NAME\"] + '/' + df[\"PHOTO NAME (Tampered)\"]\n",
    "df[\"mask_path\"] = df[\"FOLDER NAME.1\"] + '/' + df[\"PHOTO NAME (Mask)\"]"
   ]
  },
  {
   "cell_type": "code",
   "execution_count": null,
   "id": "8db1e8c9",
   "metadata": {},
   "outputs": [],
   "source": [
    "class Sample:\n",
    "    def __init__(self, name, tampered, masks, methods):\n",
    "        self.name = name\n",
    "        self.tampered = tampered\n",
    "        self.masks = masks\n",
    "        self.methods = methods"
   ]
  },
  {
   "cell_type": "code",
   "execution_count": null,
   "id": "e8788686",
   "metadata": {
    "scrolled": true
   },
   "outputs": [],
   "source": [
    "dataset = []\n",
    "unique_images = list(df['PHOTO NAME (Original)'].unique())\n",
    "\n",
    "for image in unique_images:\n",
    "    tampered = list(df.loc[df['PHOTO NAME (Original)'] == image]['tamper_path'])\n",
    "    masks = list(df.loc[df['PHOTO NAME (Original)'] == image]['mask_path'])\n",
    "    methods = list(df.loc[df['PHOTO NAME (Original)'] == image]['TAMPERING TYPE'])\n",
    "    sample = Sample(name=image,\n",
    "                   tampered=tampered,\n",
    "                   masks=masks,\n",
    "                   methods=methods)\n",
    "    dataset.append(sample)\n",
    "\n",
    "# dataset should have 100 original images (there are more tampered and masks)\n",
    "assert len(dataset) == 100"
   ]
  },
  {
   "cell_type": "code",
   "execution_count": null,
   "id": "4e7e94e7",
   "metadata": {},
   "outputs": [],
   "source": [
    "# for reasons unknown, Masks for images 1 to 15 are organized differently\n",
    "# the file names do not match the dataset description file\n",
    "\n",
    "dataset = list(filter(lambda x: int(x.name.split('_')[1]) > 15, dataset))"
   ]
  },
  {
   "cell_type": "code",
   "execution_count": null,
   "id": "38e86000",
   "metadata": {},
   "outputs": [],
   "source": [
    "print(dataset[0].name)\n",
    "print(dataset[0].tampered)\n",
    "print(dataset[0].masks)\n",
    "print(dataset[0].methods)"
   ]
  },
  {
   "cell_type": "code",
   "execution_count": null,
   "id": "304bbab9",
   "metadata": {},
   "outputs": [],
   "source": [
    "print(len(dataset[0].tampered))\n",
    "print(len(dataset[0].masks))\n",
    "print(len(dataset[0].methods))"
   ]
  },
  {
   "cell_type": "code",
   "execution_count": null,
   "id": "01e25988",
   "metadata": {},
   "outputs": [],
   "source": [
    "def get_a_random_sample():\n",
    "    idx = np.random.randint(0,len(dataset))\n",
    "    sample = dataset[idx]\n",
    "    original_path = os.path.join(cg_1050_original, sample.name + '.jpg')\n",
    "    \n",
    "    idx_mt = np.random.randint(0,len(sample.tampered)) # each tampered image has a mask, so lengths are the same\n",
    "    mask_path = os.path.join(cg_1050_mask, sample.masks[idx_mt])\n",
    "    tampered_path = os.path.join(cg_1050_tampered, sample.tampered[idx_mt])\n",
    "    method = sample.methods[idx_mt]\n",
    "    \n",
    "    return (original_path, mask_path, tampered_path, method)"
   ]
  },
  {
   "cell_type": "markdown",
   "id": "4c22235c",
   "metadata": {},
   "source": [
    "# Load A Pretrained ManTraNet Model"
   ]
  },
  {
   "cell_type": "code",
   "execution_count": null,
   "id": "76034a57",
   "metadata": {},
   "outputs": [],
   "source": [
    "import modelCore # try running nvidia-smi at the top after the model loads to see model memory requirements\n",
    "manTraNet = modelCore.load_pretrain_model_by_index( 4, manTraNet_modelDir )"
   ]
  },
  {
   "cell_type": "code",
   "execution_count": null,
   "id": "569e4cc4",
   "metadata": {
    "scrolled": true
   },
   "outputs": [],
   "source": [
    "# ManTraNet Architecture \n",
    "print(manTraNet.summary(line_length=120))"
   ]
  },
  {
   "cell_type": "code",
   "execution_count": null,
   "id": "d4694e7d",
   "metadata": {
    "scrolled": true
   },
   "outputs": [],
   "source": [
    "# Image Manipulation Classification Network\n",
    "IMCFeatex = manTraNet.get_layer('Featex')\n",
    "print(IMCFeatex.summary(line_length=120))"
   ]
  },
  {
   "cell_type": "markdown",
   "id": "5780e425",
   "metadata": {},
   "source": [
    "# test samples from cg-1050"
   ]
  },
  {
   "cell_type": "code",
   "execution_count": null,
   "id": "1d1c6154",
   "metadata": {},
   "outputs": [],
   "source": [
    "from datetime import datetime \n",
    "def read_rgb_image( image_file ) :\n",
    "    rgb = cv2.imread( image_file, 1 )[...,::-1]\n",
    "    return rgb\n",
    "    \n",
    "def decode_an_image_array( rgb, manTraNet ) :\n",
    "    x = np.expand_dims( rgb.astype('float32')/255.*2-1, axis=0 )\n",
    "    t0 = datetime.now()\n",
    "    y = manTraNet.predict(x)[0,...,0]\n",
    "    t1 = datetime.now()\n",
    "    return y, t1-t0\n",
    "\n",
    "def decode_an_image_file( image_file, manTraNet ) :\n",
    "    rgb = read_rgb_image( image_file )\n",
    "    mask, ptime = decode_an_image_array( rgb, manTraNet )\n",
    "    return rgb, mask, ptime.total_seconds()"
   ]
  },
  {
   "cell_type": "code",
   "execution_count": null,
   "id": "92277475",
   "metadata": {},
   "outputs": [],
   "source": [
    "def slice_and_decode(filename, manTraNet):\n",
    "    tiles = image_slicer.slice(filename, number_tiles=8)\n",
    "    mask_tiles = []\n",
    "    total_ptime = 0\n",
    "    for tile in tiles:\n",
    "        rgb, mask, ptime = decode_an_image_file(tile.filename, manTraNet)\n",
    "        mask_image = Image.fromarray(np.uint8(mask * 255))\n",
    "        mask_tile = image_slicer.Tile(image=mask_image, number=tile.number, position=tile.position, coords=tile.coords)\n",
    "        mask_tiles.append(mask_tile)\n",
    "        total_ptime += ptime\n",
    "    mask_tiles = tuple(mask_tiles)\n",
    "    res = image_slicer.join(mask_tiles)\n",
    "    return res, total_ptime"
   ]
  },
  {
   "cell_type": "code",
   "execution_count": null,
   "id": "431f77c5",
   "metadata": {
    "scrolled": false
   },
   "outputs": [],
   "source": [
    "# modified for CG-1050 dataset\n",
    "\n",
    "for k in range(5):\n",
    "    # get a sample\n",
    "    orig_file, mask_file, tampered_file, tamper_method = get_a_random_sample()\n",
    "    \n",
    "    # load the original image for reference\n",
    "    ori = read_rgb_image( orig_file )\n",
    "    \n",
    "    # load tampered image for reference\n",
    "    rgb = read_rgb_image( tampered_file )\n",
    "    \n",
    "    # manipulation detection using ManTraNet\n",
    "    # rgb, mask, ptime = decode_an_image_file( tmpr_resized_filename, manTraNet )\n",
    "    \n",
    "    # manipulation detection using slice method\n",
    "    mask, ptime = slice_and_decode( tampered_file, manTraNet )\n",
    "    \n",
    "    # show results\n",
    "    pyplot.figure( figsize=(25,25) )\n",
    "    \n",
    "    pyplot.subplot(2, 2, 1)\n",
    "    pyplot.imshow( ori )\n",
    "    pyplot.title('Original Image')\n",
    "    \n",
    "    pyplot.subplot(2, 2, 2)\n",
    "    pyplot.imshow( rgb )\n",
    "    pyplot.title('Forged Image (ManTra-Net Input)')\n",
    "    \n",
    "    pyplot.subplot(2, 2, 3)\n",
    "    pyplot.imshow( mask, cmap='gray' )\n",
    "    pyplot.title('Predicted Mask (ManTra-Net Output)')\n",
    "\n",
    "    pyplot.subplot(2, 2, 4)\n",
    "    actual_mask = pyplot.imread(mask_file)\n",
    "    pyplot.imshow(actual_mask, cmap='gray')\n",
    "    pyplot.title('Actual Mask (CG-1050)')\n",
    "    \n",
    "    pyplot.suptitle('Decoded {} of size {} for {:.2f} seconds'.format( os.path.basename( tampered_file ), rgb.shape, ptime ) )\n",
    "    \n",
    "    pyplot.show()\n",
    "    \n",
    "    break # remove break to test on more images"
   ]
  },
  {
   "cell_type": "code",
   "execution_count": null,
   "id": "613f2505",
   "metadata": {},
   "outputs": [],
   "source": []
  }
 ],
 "metadata": {
  "kernelspec": {
   "display_name": "Python 3",
   "language": "python",
   "name": "python3"
  },
  "language_info": {
   "codemirror_mode": {
    "name": "ipython",
    "version": 3
   },
   "file_extension": ".py",
   "mimetype": "text/x-python",
   "name": "python",
   "nbconvert_exporter": "python",
   "pygments_lexer": "ipython3",
   "version": "3.6.13"
  }
 },
 "nbformat": 4,
 "nbformat_minor": 5
}
